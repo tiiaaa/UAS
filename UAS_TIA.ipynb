{
 "cells": [
  {
   "cell_type": "code",
   "execution_count": 1,
   "metadata": {},
   "outputs": [
    {
     "name": "stdout",
     "output_type": "stream",
     "text": [
      "Masukan Celcius 24\n",
      "Maka nilainya Fahrenheit adalah  75.2\n",
      "Maka nilainya Reamur adalah  19.200000000000003\n"
     ]
    }
   ],
   "source": [
    "#191103518_TIA_4A1\n",
    "\n",
    "# NO. 1 Program Konversi suhu\n",
    "\n",
    "#FAHRENHEIT\n",
    "c = float(input(\"Masukan Celcius \"))\n",
    "f = 9/5 * c + 32\n",
    "print(\"Maka nilainya Fahrenheit adalah \", f)\n",
    "\n",
    "#REAMUR\n",
    "r = 4/5 * c \n",
    "print(\"Maka nilainya Reamur adalah \", r)"
   ]
  },
  {
   "cell_type": "code",
   "execution_count": 3,
   "metadata": {},
   "outputs": [
    {
     "name": "stdout",
     "output_type": "stream",
     "text": [
      "Berhasil terhubung ke database\n"
     ]
    }
   ],
   "source": [
    "import mysql.connector\n",
    "\n",
    "db = mysql.connector.connect(\n",
    "    host=\"localhost\",\n",
    "    user=\"root\",\n",
    "    passwd=\"\"\n",
    ")\n",
    "\n",
    "if db.is_connected():\n",
    "    print(\"Berhasil terhubung ke database\")"
   ]
  },
  {
   "cell_type": "code",
   "execution_count": 11,
   "metadata": {},
   "outputs": [
    {
     "name": "stdout",
     "output_type": "stream",
     "text": [
      "Database berhasil dibuat!\n"
     ]
    }
   ],
   "source": [
    "import mysql.connector\n",
    "\n",
    "db = mysql.connector.connect(\n",
    "    host=\"localhost\",\n",
    "    user=\"root\",\n",
    "    passwd=\"\"\n",
    ")\n",
    "\n",
    "cursor = db.cursor()\n",
    "cursor.execute(\"CREATE DATABASE db_film\")\n",
    "\n",
    "print(\"Database berhasil dibuat!\")"
   ]
  },
  {
   "cell_type": "code",
   "execution_count": 14,
   "metadata": {},
   "outputs": [
    {
     "name": "stdout",
     "output_type": "stream",
     "text": [
      "Tabel Film berhasil dibuat !\n"
     ]
    }
   ],
   "source": [
    "import mysql.connector\n",
    "\n",
    "db = mysql.connector.connect(\n",
    "    host=\"localhost\",\n",
    "    user=\"root\",\n",
    "    passwd=\"\",\n",
    "    database=\"db_Film\"\n",
    ")\n",
    "cursor = db.cursor()\n",
    "sql = \"\"\"CREATE TABLE tblfilm (\n",
    "    kode_id INT AUTO_INCREMENT PRIMARY KEY,\n",
    "    judulfilm VARCHAR(225),\n",
    "    jenis_film varchar(225)\n",
    ")\n",
    "\"\"\"\n",
    "cursor.execute(sql)\n",
    "\n",
    "print(\"Tabel Film berhasil dibuat !\")\n"
   ]
  },
  {
   "cell_type": "code",
   "execution_count": 30,
   "metadata": {},
   "outputs": [
    {
     "name": "stdout",
     "output_type": "stream",
     "text": [
      "1 data ditambahkan\n"
     ]
    }
   ],
   "source": [
    "#A. INSERT FILM\n",
    "\n",
    "import mysql.connector\n",
    "\n",
    "db = mysql.connector.connect(\n",
    "   host=\"localhost\",\n",
    "   user=\"root\",\n",
    "   passwd=\"\",\n",
    "   database=\"db_film\"\n",
    ")\n",
    "\n",
    "cursor = db.cursor()\n",
    "sql = \"INSERT INTO tblfilm (judulfilm, jenis_film) VALUES (%s, %s)\"\n",
    "val = (\"X-Men: Dark Phoenix\", \"Action\")\n",
    "cursor.execute (sql, val)\n",
    "\n",
    "db.commit()\n",
    "\n",
    "print(\"{} data ditambahkan\".format(cursor.rowcount))"
   ]
  },
  {
   "cell_type": "code",
   "execution_count": 31,
   "metadata": {},
   "outputs": [
    {
     "name": "stdout",
     "output_type": "stream",
     "text": [
      "3 data ditambahkan\n"
     ]
    }
   ],
   "source": [
    "import mysql.connector\n",
    "\n",
    "db = mysql.connector.connect(\n",
    "   host=\"localhost\",\n",
    "   user=\"root\",\n",
    "   passwd=\"\",\n",
    "   database=\"db_film\"\n",
    ")\n",
    "\n",
    "cursor = db.cursor()\n",
    "sql = \"INSERT INTO tblfilm (judulfilm, jenis_film) VALUES (%s, %s)\"\n",
    "values = [\n",
    "    (\"Aladdin\",\"Fantasy\"),\n",
    "    (\"Godzilla II:King of the Monsters\",\"Fantasy\"),\n",
    "    (\"John Wick: Chapter 3 - Parabellum\",\"Action\")\n",
    "]\n",
    "\n",
    "for val in values:\n",
    "    cursor.execute(sql, val)\n",
    "    db.commit()\n",
    "\n",
    "print(\"{} data ditambahkan\".format(len(values)))"
   ]
  },
  {
   "cell_type": "code",
   "execution_count": 32,
   "metadata": {},
   "outputs": [
    {
     "name": "stdout",
     "output_type": "stream",
     "text": [
      "(2, 'X-Men: Dark Phoenix', 'Action')\n",
      "(7, 'X-Men: Dark Phoenix', 'Action')\n",
      "(8, 'Aladdin', 'Fantasy')\n",
      "(9, 'Godzilla II:King of the Monsters', 'Fantasy')\n",
      "(10, 'John Wick: Chapter 3 - Parabellum', 'Action')\n"
     ]
    }
   ],
   "source": [
    "import mysql.connector\n",
    "\n",
    "db = mysql.connector.connect(\n",
    "   host=\"localhost\",\n",
    "   user=\"root\",\n",
    "   passwd=\"\",\n",
    "   database=\"db_film\"\n",
    ")\n",
    "\n",
    "cursor = db.cursor()\n",
    "sql = \"SELECT * FROM tblfilm\"\n",
    "cursor.execute(sql)\n",
    "\n",
    "results = cursor.fetchall()\n",
    "\n",
    "for data in results:\n",
    "    print(data)"
   ]
  },
  {
   "cell_type": "code",
   "execution_count": 39,
   "metadata": {},
   "outputs": [
    {
     "name": "stdout",
     "output_type": "stream",
     "text": [
      "(2, 'X-Men: Dark Phoenix', 'Action')\n"
     ]
    }
   ],
   "source": [
    "import mysql.connector\n",
    "\n",
    "db = mysql.connector.connect(\n",
    "     host=\"localhost\",\n",
    "     user=\"root\",\n",
    "     passwd=\"\",\n",
    "     database=\"db_film\"\n",
    ")\n",
    "\n",
    "cursor = db.cursor()\n",
    "sql = \"SELECT * FROM tblfilm\"\n",
    "cursor.execute(sql)\n",
    "\n",
    "result = cursor.fetchone()\n",
    "\n",
    "print(result)"
   ]
  },
  {
   "cell_type": "code",
   "execution_count": 50,
   "metadata": {},
   "outputs": [
    {
     "name": "stdout",
     "output_type": "stream",
     "text": [
      "1 data diubah\n"
     ]
    }
   ],
   "source": [
    "#B. Update film\n",
    "\n",
    "import mysql.connector\n",
    "\n",
    "db = mysql.connector.connect(\n",
    "   host=\"localhost\",\n",
    "   user=\"root\",\n",
    "   passwd=\"\",\n",
    "   database=\"db_film\"\n",
    ")\n",
    "\n",
    "cursor = db.cursor()\n",
    "sql = \"UPDATE tblfilm SET judulfilm=%s, jenis_film=%s WHERE kode_id=%s\"\n",
    "val = (\"X-Men: Dark Phoenix\", \"Fantasy Action\", 2)\n",
    "cursor.execute(sql, val)\n",
    "\n",
    "db.commit()\n",
    "\n",
    "print(\"{} data diubah\".format(cursor.rowcount))"
   ]
  },
  {
   "cell_type": "code",
   "execution_count": 52,
   "metadata": {},
   "outputs": [
    {
     "name": "stdout",
     "output_type": "stream",
     "text": [
      "1 data dihapus\n"
     ]
    }
   ],
   "source": [
    "#C. Delete data\n",
    "\n",
    "import mysql.connector\n",
    "\n",
    "db = mysql.connector.connect(\n",
    "   host=\"localhost\",\n",
    "   user=\"root\",\n",
    "   passwd=\"\",\n",
    "   database=\"db_film\"\n",
    ")\n",
    "\n",
    "cursor = db.cursor()\n",
    "sql = \"DELETE FROM tblfilm WHERE kode_id=%s\"\n",
    "val = (2, )\n",
    "cursor.execute(sql, val)\n",
    "\n",
    "db.commit()\n",
    "\n",
    "print(\"{} data dihapus\".format(cursor.rowcount))"
   ]
  },
  {
   "cell_type": "code",
   "execution_count": 94,
   "metadata": {},
   "outputs": [
    {
     "ename": "IndentationError",
     "evalue": "unindent does not match any outer indentation level (<tokenize>, line 22)",
     "output_type": "error",
     "traceback": [
      "\u001b[1;36m  File \u001b[1;32m\"<tokenize>\"\u001b[1;36m, line \u001b[1;32m22\u001b[0m\n\u001b[1;33m    else:\u001b[0m\n\u001b[1;37m    ^\u001b[0m\n\u001b[1;31mIndentationError\u001b[0m\u001b[1;31m:\u001b[0m unindent does not match any outer indentation level\n"
     ]
    }
   ],
   "source": [
    "#Cari Film\n",
    "\n",
    "import mysql.connector\n",
    "import os\n",
    "\n",
    "db = mysql.connector.connect(\n",
    "   host=\"localhost\",\n",
    "   user=\"root\",\n",
    "   passwd=\"\",\n",
    "   database=\"db_film\"\n",
    ")\n",
    "def search_film(db):\n",
    "    cursor = db.cursor()\n",
    "    keyword = input(\"Kata kunci: \")\n",
    "    sql = \"SELECT * FROM tblfilm WHERE name judulfilm %s OR jenis_film %s\"\n",
    "    val = (\"%{}%\".format(keyword), \"%{}%\".format(keyword))\n",
    "    cursor.execute(sql, val)\n",
    "    results = cursor.fetchall()\n",
    "    \n",
    "if cursor.rowcount < 0 :\n",
    "        print(\"Tidak ada film\")\n",
    "    else:\n",
    "        for data in results :\n",
    "            print(data)\n",
    "          \n",
    "    def show_film(db):\n",
    "    print(\"=== APLIKASI DATABASE FILM ===\")\n",
    "    print(\"1. Insert Data\")\n",
    "    print(\"2. Tampilkan Data\")\n",
    "    print(\"3. Update Data\")\n",
    "    print(\"4. Hapus Data\")\n",
    "    print(\"5. Cari data\")\n",
    "    print(\"0. Keluar\")\n",
    "    print(\"-------------------------------\")\n",
    "    menu = input(\"Pilih menu\")\n",
    "\n",
    "    os.system(\"clear\")\n",
    "          "
   ]
  },
  {
   "cell_type": "code",
   "execution_count": null,
   "metadata": {},
   "outputs": [],
   "source": []
  }
 ],
 "metadata": {
  "kernelspec": {
   "display_name": "Python 3",
   "language": "python",
   "name": "python3"
  },
  "language_info": {
   "codemirror_mode": {
    "name": "ipython",
    "version": 3
   },
   "file_extension": ".py",
   "mimetype": "text/x-python",
   "name": "python",
   "nbconvert_exporter": "python",
   "pygments_lexer": "ipython3",
   "version": "3.8.5"
  }
 },
 "nbformat": 4,
 "nbformat_minor": 4
}
